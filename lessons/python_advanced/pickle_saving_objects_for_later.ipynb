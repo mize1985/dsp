{
 "cells": [
  {
   "cell_type": "code",
   "execution_count": null,
   "metadata": {},
   "outputs": [],
   "source": [
    "import sys\n",
    "print(\"Python Version:\", sys.version, '\\n')"
   ]
  },
  {
   "cell_type": "markdown",
   "metadata": {},
   "source": [
    "# Pickle: Saving Objects for Later"
   ]
  },
  {
   "cell_type": "markdown",
   "metadata": {},
   "source": [
    "Often in data science, we'll create some model or some version of our data and want to use it later. We have many options - we can save the coefficients, or save the data to csv, or...\n",
    "\n",
    "Actually, we don't have that many options. \n",
    "\n",
    "One way to overcome that is to save the python object to a file as a serialized object. That means we convert the entire object to a bunch of bytes, save those bytes into a file, and then have the ability to unpack those bytes back into their original format later. \n",
    "\n",
    "This is done by a module called `pickle`. Let's see it in action."
   ]
  },
  {
   "cell_type": "code",
   "execution_count": 1,
   "metadata": {},
   "outputs": [],
   "source": [
    "import pickle\n",
    "import random\n",
    "\n",
    "lots_of_noise = {\n",
    "    'CA': [random.randint(0,65) for _ in range(100)],\n",
    "    'IL': [random.randint(0,65) for _ in range(50)],\n",
    "    'NY': [random.randint(0,65) for _ in range(90)],\n",
    "    'WA': [random.randint(0,65) for _ in range(33)]\n",
    "}"
   ]
  },
  {
   "cell_type": "code",
   "execution_count": 2,
   "metadata": {},
   "outputs": [
    {
     "name": "stdout",
     "output_type": "stream",
     "text": [
      "{'CA': [2, 62, 10, 4, 43, 28, 59, 43, 31, 12, 40, 40, 3, 8, 4, 43, 59, 56, 15, 26, 28, 46, 48, 29, 63, 9, 42, 8, 41, 57, 28, 47, 47, 1, 41, 30, 28, 19, 53, 60, 14, 9, 26, 13, 32, 32, 0, 43, 33, 51, 35, 11, 21, 31, 9, 61, 40, 40, 19, 51, 14, 61, 42, 27, 27, 45, 35, 64, 65, 3, 43, 52, 21, 36, 24, 41, 15, 54, 11, 31, 38, 4, 45, 59, 32, 64, 64, 27, 5, 43, 19, 10, 61, 19, 22, 50, 6, 49, 32, 50], 'IL': [56, 31, 20, 23, 59, 31, 41, 40, 22, 42, 26, 23, 7, 33, 62, 26, 29, 61, 63, 57, 20, 26, 58, 5, 64, 8, 24, 40, 8, 49, 54, 11, 43, 42, 9, 16, 50, 5, 47, 15, 35, 43, 56, 19, 17, 23, 5, 60, 20, 16], 'NY': [31, 6, 21, 11, 50, 40, 0, 14, 5, 38, 43, 14, 30, 19, 43, 13, 60, 8, 52, 55, 57, 41, 10, 18, 42, 12, 45, 58, 17, 55, 18, 28, 52, 0, 7, 42, 46, 45, 38, 51, 40, 30, 57, 41, 64, 20, 35, 30, 22, 2, 15, 1, 40, 35, 55, 55, 25, 29, 51, 2, 19, 33, 46, 62, 6, 35, 6, 12, 3, 26, 47, 3, 2, 48, 61, 20, 9, 17, 44, 61, 22, 16, 6, 28, 2, 49, 29, 22, 14, 5], 'WA': [23, 12, 26, 14, 5, 65, 40, 37, 19, 45, 12, 58, 7, 39, 11, 14, 32, 19, 65, 22, 43, 22, 26, 29, 14, 26, 29, 7, 27, 17, 30, 10, 55]}\n"
     ]
    }
   ],
   "source": [
    "print(lots_of_noise)"
   ]
  },
  {
   "cell_type": "code",
   "execution_count": 3,
   "metadata": {},
   "outputs": [
    {
     "name": "stdout",
     "output_type": "stream",
     "text": [
      "Variable        Type      Data/Info\n",
      "-----------------------------------\n",
      "lots_of_noise   dict      n=4\n",
      "pickle          module    <module 'pickle' from '/h<...>lib/python3.7/pickle.py'>\n",
      "random          module    <module 'random' from '/h<...>lib/python3.7/random.py'>\n"
     ]
    }
   ],
   "source": [
    "whos"
   ]
  },
  {
   "cell_type": "markdown",
   "metadata": {},
   "source": [
    "We can see in this `whos` command that the object `lots_of_noise` exists and is a `dict` with 4 keys. Nice. Now let's look at our file system and verify that there isn't a file called `noise.pickle`."
   ]
  },
  {
   "cell_type": "code",
   "execution_count": 4,
   "metadata": {},
   "outputs": [
    {
     "name": "stdout",
     "output_type": "stream",
     "text": [
      "advanced_python_datatypes.ipynb  my_dataframe.pickle\r\n",
      "complexity.md\t\t\t noise.pickle\r\n",
      "deep_and_shallow_copy.ipynb\t pickle_saving_objects_for_later.ipynb\r\n",
      "deep_copy_demo\t\t\t readme.md\r\n"
     ]
    }
   ],
   "source": [
    "!ls"
   ]
  },
  {
   "cell_type": "markdown",
   "metadata": {},
   "source": [
    "Okay, now we're ready to create a file and write the bytes to it. To do this with `pickle`, we use python's read-write streamer `open` and create a writable-binary (`wb`) file. We'll then use `pickle.dump` to put an object into that file as a string of bytes."
   ]
  },
  {
   "cell_type": "code",
   "execution_count": 5,
   "metadata": {},
   "outputs": [],
   "source": [
    "with open('noise.pickle', 'wb') as to_write:\n",
    "    pickle.dump(lots_of_noise, to_write)"
   ]
  },
  {
   "cell_type": "code",
   "execution_count": 6,
   "metadata": {},
   "outputs": [
    {
     "name": "stdout",
     "output_type": "stream",
     "text": [
      "advanced_python_datatypes.ipynb  my_dataframe.pickle\r\n",
      "complexity.md\t\t\t noise.pickle\r\n",
      "deep_and_shallow_copy.ipynb\t pickle_saving_objects_for_later.ipynb\r\n",
      "deep_copy_demo\t\t\t readme.md\r\n"
     ]
    }
   ],
   "source": [
    "!ls"
   ]
  },
  {
   "cell_type": "markdown",
   "metadata": {},
   "source": [
    "Now let's delete `lots_of_noise` and prove to ourselves it doesn't exist in Python's memory anymore."
   ]
  },
  {
   "cell_type": "code",
   "execution_count": 7,
   "metadata": {},
   "outputs": [],
   "source": [
    "del lots_of_noise"
   ]
  },
  {
   "cell_type": "code",
   "execution_count": 8,
   "metadata": {},
   "outputs": [
    {
     "name": "stdout",
     "output_type": "stream",
     "text": [
      "Variable   Type              Data/Info\n",
      "--------------------------------------\n",
      "pickle     module            <module 'pickle' from '/h<...>lib/python3.7/pickle.py'>\n",
      "random     module            <module 'random' from '/h<...>lib/python3.7/random.py'>\n",
      "to_write   BufferedWriter    <_io.BufferedWriter name='noise.pickle'>\n"
     ]
    }
   ],
   "source": [
    "whos"
   ]
  },
  {
   "cell_type": "code",
   "execution_count": 9,
   "metadata": {},
   "outputs": [
    {
     "ename": "NameError",
     "evalue": "name 'lots_of_noise' is not defined",
     "output_type": "error",
     "traceback": [
      "\u001b[0;31m---------------------------------------------------------------------------\u001b[0m",
      "\u001b[0;31mNameError\u001b[0m                                 Traceback (most recent call last)",
      "\u001b[0;32m<ipython-input-9-69f22b4d5ca8>\u001b[0m in \u001b[0;36m<module>\u001b[0;34m\u001b[0m\n\u001b[0;32m----> 1\u001b[0;31m \u001b[0mprint\u001b[0m\u001b[0;34m(\u001b[0m\u001b[0mlots_of_noise\u001b[0m\u001b[0;34m)\u001b[0m\u001b[0;34m\u001b[0m\u001b[0;34m\u001b[0m\u001b[0m\n\u001b[0m",
      "\u001b[0;31mNameError\u001b[0m: name 'lots_of_noise' is not defined"
     ]
    }
   ],
   "source": [
    "print(lots_of_noise)"
   ]
  },
  {
   "cell_type": "markdown",
   "metadata": {},
   "source": [
    "Lovely. It's dead forever. Or is it?\n",
    "\n",
    "Let's open that `noise.pickle` file with read-binary (`rb`) mode. Then we'll ask pickle to retrieve the file with `pickle.load` and store it back in a variable."
   ]
  },
  {
   "cell_type": "code",
   "execution_count": 11,
   "metadata": {},
   "outputs": [],
   "source": [
    "with open('noise.pickle','rb') as read_file:\n",
    "    new_noise = pickle.load(read_file)"
   ]
  },
  {
   "cell_type": "code",
   "execution_count": 12,
   "metadata": {},
   "outputs": [
    {
     "name": "stdout",
     "output_type": "stream",
     "text": [
      "{'CA': [2, 62, 10, 4, 43, 28, 59, 43, 31, 12, 40, 40, 3, 8, 4, 43, 59, 56, 15, 26, 28, 46, 48, 29, 63, 9, 42, 8, 41, 57, 28, 47, 47, 1, 41, 30, 28, 19, 53, 60, 14, 9, 26, 13, 32, 32, 0, 43, 33, 51, 35, 11, 21, 31, 9, 61, 40, 40, 19, 51, 14, 61, 42, 27, 27, 45, 35, 64, 65, 3, 43, 52, 21, 36, 24, 41, 15, 54, 11, 31, 38, 4, 45, 59, 32, 64, 64, 27, 5, 43, 19, 10, 61, 19, 22, 50, 6, 49, 32, 50], 'IL': [56, 31, 20, 23, 59, 31, 41, 40, 22, 42, 26, 23, 7, 33, 62, 26, 29, 61, 63, 57, 20, 26, 58, 5, 64, 8, 24, 40, 8, 49, 54, 11, 43, 42, 9, 16, 50, 5, 47, 15, 35, 43, 56, 19, 17, 23, 5, 60, 20, 16], 'NY': [31, 6, 21, 11, 50, 40, 0, 14, 5, 38, 43, 14, 30, 19, 43, 13, 60, 8, 52, 55, 57, 41, 10, 18, 42, 12, 45, 58, 17, 55, 18, 28, 52, 0, 7, 42, 46, 45, 38, 51, 40, 30, 57, 41, 64, 20, 35, 30, 22, 2, 15, 1, 40, 35, 55, 55, 25, 29, 51, 2, 19, 33, 46, 62, 6, 35, 6, 12, 3, 26, 47, 3, 2, 48, 61, 20, 9, 17, 44, 61, 22, 16, 6, 28, 2, 49, 29, 22, 14, 5], 'WA': [23, 12, 26, 14, 5, 65, 40, 37, 19, 45, 12, 58, 7, 39, 11, 14, 32, 19, 65, 22, 43, 22, 26, 29, 14, 26, 29, 7, 27, 17, 30, 10, 55]}\n"
     ]
    }
   ],
   "source": [
    "print(new_noise)"
   ]
  },
  {
   "cell_type": "code",
   "execution_count": 13,
   "metadata": {},
   "outputs": [
    {
     "name": "stdout",
     "output_type": "stream",
     "text": [
      "Variable    Type              Data/Info\n",
      "---------------------------------------\n",
      "new_noise   dict              n=4\n",
      "pickle      module            <module 'pickle' from '/h<...>lib/python3.7/pickle.py'>\n",
      "random      module            <module 'random' from '/h<...>lib/python3.7/random.py'>\n",
      "read_file   BufferedReader    <_io.BufferedReader name='noise.pickle'>\n",
      "to_write    BufferedWriter    <_io.BufferedWriter name='noise.pickle'>\n"
     ]
    }
   ],
   "source": [
    "whos"
   ]
  },
  {
   "cell_type": "markdown",
   "metadata": {},
   "source": [
    "Random noise lives! We retrieved the entire structure from file. Nice."
   ]
  },
  {
   "cell_type": "markdown",
   "metadata": {},
   "source": [
    "### Okay, but I don't use dictionaries... I use pandas."
   ]
  },
  {
   "cell_type": "code",
   "execution_count": 14,
   "metadata": {},
   "outputs": [
    {
     "data": {
      "text/html": [
       "<div>\n",
       "<style scoped>\n",
       "    .dataframe tbody tr th:only-of-type {\n",
       "        vertical-align: middle;\n",
       "    }\n",
       "\n",
       "    .dataframe tbody tr th {\n",
       "        vertical-align: top;\n",
       "    }\n",
       "\n",
       "    .dataframe thead th {\n",
       "        text-align: right;\n",
       "    }\n",
       "</style>\n",
       "<table border=\"1\" class=\"dataframe\">\n",
       "  <thead>\n",
       "    <tr style=\"text-align: right;\">\n",
       "      <th></th>\n",
       "      <th>Yay</th>\n",
       "      <th>specific</th>\n",
       "      <th>column</th>\n",
       "      <th>names</th>\n",
       "    </tr>\n",
       "  </thead>\n",
       "  <tbody>\n",
       "    <tr>\n",
       "      <th>0</th>\n",
       "      <td>4.908458</td>\n",
       "      <td>-3.115446</td>\n",
       "      <td>-9.301257</td>\n",
       "      <td>-2.443189</td>\n",
       "    </tr>\n",
       "    <tr>\n",
       "      <th>1</th>\n",
       "      <td>-6.379688</td>\n",
       "      <td>5.794507</td>\n",
       "      <td>6.134966</td>\n",
       "      <td>7.589681</td>\n",
       "    </tr>\n",
       "    <tr>\n",
       "      <th>2</th>\n",
       "      <td>-7.156178</td>\n",
       "      <td>-9.409754</td>\n",
       "      <td>5.697127</td>\n",
       "      <td>2.614757</td>\n",
       "    </tr>\n",
       "    <tr>\n",
       "      <th>3</th>\n",
       "      <td>7.972538</td>\n",
       "      <td>-8.403283</td>\n",
       "      <td>-4.559793</td>\n",
       "      <td>5.006585</td>\n",
       "    </tr>\n",
       "    <tr>\n",
       "      <th>4</th>\n",
       "      <td>-7.359100</td>\n",
       "      <td>-1.657344</td>\n",
       "      <td>-8.938966</td>\n",
       "      <td>5.056532</td>\n",
       "    </tr>\n",
       "  </tbody>\n",
       "</table>\n",
       "</div>"
      ],
      "text/plain": [
       "        Yay  specific    column     names\n",
       "0  4.908458 -3.115446 -9.301257 -2.443189\n",
       "1 -6.379688  5.794507  6.134966  7.589681\n",
       "2 -7.156178 -9.409754  5.697127  2.614757\n",
       "3  7.972538 -8.403283 -4.559793  5.006585\n",
       "4 -7.359100 -1.657344 -8.938966  5.056532"
      ]
     },
     "execution_count": 14,
     "metadata": {},
     "output_type": "execute_result"
    }
   ],
   "source": [
    "import pandas as pd\n",
    "import numpy as np\n",
    "\n",
    "df = pd.DataFrame(np.random.uniform(-10,10, size=(100,4)), columns=['Yay','specific','column','names'])\n",
    "df.head(5)"
   ]
  },
  {
   "cell_type": "code",
   "execution_count": 15,
   "metadata": {},
   "outputs": [],
   "source": [
    "with open('my_dataframe.pickle', 'wb') as to_write:\n",
    "    pickle.dump(df, to_write)"
   ]
  },
  {
   "cell_type": "code",
   "execution_count": 16,
   "metadata": {},
   "outputs": [
    {
     "ename": "NameError",
     "evalue": "name 'df' is not defined",
     "output_type": "error",
     "traceback": [
      "\u001b[0;31m---------------------------------------------------------------------------\u001b[0m",
      "\u001b[0;31mNameError\u001b[0m                                 Traceback (most recent call last)",
      "\u001b[0;32m<ipython-input-16-3975f6306adf>\u001b[0m in \u001b[0;36m<module>\u001b[0;34m\u001b[0m\n\u001b[1;32m      1\u001b[0m \u001b[0;32mdel\u001b[0m \u001b[0mdf\u001b[0m\u001b[0;34m\u001b[0m\u001b[0;34m\u001b[0m\u001b[0m\n\u001b[1;32m      2\u001b[0m \u001b[0;34m\u001b[0m\u001b[0m\n\u001b[0;32m----> 3\u001b[0;31m \u001b[0mdf\u001b[0m\u001b[0;34m.\u001b[0m\u001b[0mhead\u001b[0m\u001b[0;34m(\u001b[0m\u001b[0;36m5\u001b[0m\u001b[0;34m)\u001b[0m\u001b[0;34m\u001b[0m\u001b[0;34m\u001b[0m\u001b[0m\n\u001b[0m",
      "\u001b[0;31mNameError\u001b[0m: name 'df' is not defined"
     ]
    }
   ],
   "source": [
    "del df\n",
    "\n",
    "df.head(5)"
   ]
  },
  {
   "cell_type": "code",
   "execution_count": 17,
   "metadata": {},
   "outputs": [
    {
     "data": {
      "text/html": [
       "<div>\n",
       "<style scoped>\n",
       "    .dataframe tbody tr th:only-of-type {\n",
       "        vertical-align: middle;\n",
       "    }\n",
       "\n",
       "    .dataframe tbody tr th {\n",
       "        vertical-align: top;\n",
       "    }\n",
       "\n",
       "    .dataframe thead th {\n",
       "        text-align: right;\n",
       "    }\n",
       "</style>\n",
       "<table border=\"1\" class=\"dataframe\">\n",
       "  <thead>\n",
       "    <tr style=\"text-align: right;\">\n",
       "      <th></th>\n",
       "      <th>Yay</th>\n",
       "      <th>specific</th>\n",
       "      <th>column</th>\n",
       "      <th>names</th>\n",
       "    </tr>\n",
       "  </thead>\n",
       "  <tbody>\n",
       "    <tr>\n",
       "      <th>0</th>\n",
       "      <td>4.908458</td>\n",
       "      <td>-3.115446</td>\n",
       "      <td>-9.301257</td>\n",
       "      <td>-2.443189</td>\n",
       "    </tr>\n",
       "    <tr>\n",
       "      <th>1</th>\n",
       "      <td>-6.379688</td>\n",
       "      <td>5.794507</td>\n",
       "      <td>6.134966</td>\n",
       "      <td>7.589681</td>\n",
       "    </tr>\n",
       "    <tr>\n",
       "      <th>2</th>\n",
       "      <td>-7.156178</td>\n",
       "      <td>-9.409754</td>\n",
       "      <td>5.697127</td>\n",
       "      <td>2.614757</td>\n",
       "    </tr>\n",
       "    <tr>\n",
       "      <th>3</th>\n",
       "      <td>7.972538</td>\n",
       "      <td>-8.403283</td>\n",
       "      <td>-4.559793</td>\n",
       "      <td>5.006585</td>\n",
       "    </tr>\n",
       "    <tr>\n",
       "      <th>4</th>\n",
       "      <td>-7.359100</td>\n",
       "      <td>-1.657344</td>\n",
       "      <td>-8.938966</td>\n",
       "      <td>5.056532</td>\n",
       "    </tr>\n",
       "  </tbody>\n",
       "</table>\n",
       "</div>"
      ],
      "text/plain": [
       "        Yay  specific    column     names\n",
       "0  4.908458 -3.115446 -9.301257 -2.443189\n",
       "1 -6.379688  5.794507  6.134966  7.589681\n",
       "2 -7.156178 -9.409754  5.697127  2.614757\n",
       "3  7.972538 -8.403283 -4.559793  5.006585\n",
       "4 -7.359100 -1.657344 -8.938966  5.056532"
      ]
     },
     "execution_count": 17,
     "metadata": {},
     "output_type": "execute_result"
    }
   ],
   "source": [
    "with open('my_dataframe.pickle','rb') as read_file:\n",
    "    new_df = pickle.load(read_file)\n",
    "    \n",
    "new_df.head(5)"
   ]
  },
  {
   "cell_type": "markdown",
   "metadata": {},
   "source": [
    "Pickle is a great tool. One recommended way of using it is to make it an end point of every step in your process. Example:\n",
    "\n",
    "* I got my data! Nice. Pickle it and stop your \"getting the data\" notebook.\n",
    "* Load your data from pickle. Clean it. Save your clean data to a new pickle.\n",
    "* Load your cleaned_data pickle. Do analysis and visualize it.\n",
    "\n",
    "This can provide natural \"pick-up-where-I-left-off-but-before-I-broke-my-data\" points. It's a great way to control the flow of your data.\n",
    "\n",
    "#### Resources\n",
    "\n",
    "https://docs.python.org/3.7/library/pickle.html"
   ]
  },
  {
   "cell_type": "code",
   "execution_count": null,
   "metadata": {},
   "outputs": [],
   "source": []
  }
 ],
 "metadata": {
  "kernelspec": {
   "display_name": "Python 3",
   "language": "python",
   "name": "python3"
  },
  "language_info": {
   "codemirror_mode": {
    "name": "ipython",
    "version": 3
   },
   "file_extension": ".py",
   "mimetype": "text/x-python",
   "name": "python",
   "nbconvert_exporter": "python",
   "pygments_lexer": "ipython3",
   "version": "3.7.6"
  }
 },
 "nbformat": 4,
 "nbformat_minor": 1
}
